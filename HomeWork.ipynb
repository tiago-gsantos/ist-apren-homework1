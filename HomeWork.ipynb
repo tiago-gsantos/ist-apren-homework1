{
 "cells": [
  {
   "cell_type": "code",
   "execution_count": 39,
   "metadata": {},
   "outputs": [
    {
     "name": "stdout",
     "output_type": "stream",
     "text": [
      "                    Feature     F-Value\n",
      "1                   Glucose  213.161752\n",
      "5                       BMI   71.772072\n",
      "7                       Age   46.140611\n",
      "0               Pregnancies   39.670227\n",
      "6  DiabetesPedigreeFunction   23.871300\n",
      "4                   Insulin   13.281108\n",
      "3             SkinThickness    4.304381\n",
      "2             BloodPressure    3.256950\n"
     ]
    }
   ],
   "source": [
    "from scipy.io import arff\n",
    "import pandas as pd\n",
    "from sklearn.feature_selection import f_classif\n",
    "\n",
    "data = arff.loadarff('diabetes.arff')\n",
    "\n",
    "df = pd.DataFrame(data[0])\n",
    "\n",
    "# separar features do outcome\n",
    "x = df.drop(columns=['Outcome'])\n",
    "y = df['Outcome'].str.decode('utf-8')\n",
    "\n",
    "# calcular F-values\n",
    "F_value = f_classif(x, y)[0]\n",
    "\n",
    "# criar dataframe com features ordenadas pelo F-value\n",
    "df_results = pd.DataFrame({'Feature': x.columns, 'F-Value': F_value})\n",
    "df_results.sort_values(by='F-Value', ascending=False, inplace=True)\n",
    "\n",
    "print(df_results)\n"
   ]
  },
  {
   "cell_type": "markdown",
   "metadata": {},
   "source": [
    "1- Variável com maior poder disccriminativo: Glucose\n",
    "   Variável com menor poder descriminativo: BloodPressure"
   ]
  },
  {
   "cell_type": "code",
   "execution_count": 37,
   "metadata": {},
   "outputs": [],
   "source": [
    "import matplotlib.pyplot as plt\n"
   ]
  },
  {
   "cell_type": "markdown",
   "metadata": {},
   "source": [
    "2-"
   ]
  },
  {
   "cell_type": "code",
   "execution_count": 38,
   "metadata": {},
   "outputs": [
    {
     "name": "stdout",
     "output_type": "stream",
     "text": [
      "2\n",
      "5\n",
      "10\n",
      "20\n",
      "30\n",
      "50\n",
      "100\n"
     ]
    }
   ],
   "source": [
    "from sklearn.model_selection import train_test_split\n",
    "from sklearn.tree import DecisionTreeClassifier\n",
    "from sklearn.metrics import accuracy_score\n",
    "\n",
    "num_runs = 10\n",
    "\n",
    "train_accuracies = []\n",
    "test_accuracies = []\n",
    "\n",
    "\n",
    "for min_sample_split in [2, 5, 10, 20, 30, 50, 100]:\n",
    "  for _ in range(num_runs):\n",
    "    \n",
    "    x_train, x_test, y_train, y_test = train_test_split(x, y, test_size=0.2, stratify=y, random_state=1)\n",
    "    \n",
    "    classifier = DecisionTreeClassifier(min_samples_split=min_sample_split)\n",
    "    \n",
    "    classifier.fit(x_train, y_train)\n",
    "    \n",
    "    y_train_predictions = classifier.predict(x_train)\n",
    "    y_test_predictions = classifier.predict(x_test)\n",
    "\n",
    "    train_accuracy = accuracy_score(y_train, y_train_predictions)\n",
    "    test_accuracy = accuracy_score(y_test, y_test_predictions)\n",
    "\n",
    "    "
   ]
  },
  {
   "cell_type": "code",
   "execution_count": null,
   "metadata": {},
   "outputs": [],
   "source": []
  }
 ],
 "metadata": {
  "kernelspec": {
   "display_name": "Python 3",
   "language": "python",
   "name": "python3"
  },
  "language_info": {
   "codemirror_mode": {
    "name": "ipython",
    "version": 3
   },
   "file_extension": ".py",
   "mimetype": "text/x-python",
   "name": "python",
   "nbconvert_exporter": "python",
   "pygments_lexer": "ipython3",
   "version": "3.10.12"
  }
 },
 "nbformat": 4,
 "nbformat_minor": 2
}
